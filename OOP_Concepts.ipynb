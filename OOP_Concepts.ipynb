{
  "nbformat": 4,
  "nbformat_minor": 0,
  "metadata": {
    "colab": {
      "name": "OOP Concepts.ipynb",
      "provenance": [],
      "authorship_tag": "ABX9TyOxPyDdvpjq872tI2+5DBr9",
      "include_colab_link": true
    },
    "kernelspec": {
      "name": "python3",
      "display_name": "Python 3"
    },
    "language_info": {
      "name": "python"
    }
  },
  "cells": [
    {
      "cell_type": "markdown",
      "metadata": {
        "id": "view-in-github",
        "colab_type": "text"
      },
      "source": [
        "<a href=\"https://colab.research.google.com/github/ErnestDannielTiston/OOP-1-2/blob/main/OOP_Concepts.ipynb\" target=\"_parent\"><img src=\"https://colab.research.google.com/assets/colab-badge.svg\" alt=\"Open In Colab\"/></a>"
      ]
    },
    {
      "cell_type": "markdown",
      "source": [
        "Classes with Multiple Objects"
      ],
      "metadata": {
        "id": "IX2N3qiYVOOH"
      }
    },
    {
      "cell_type": "code",
      "execution_count": null,
      "metadata": {
        "colab": {
          "base_uri": "https://localhost:8080/"
        },
        "id": "x_10loEjTrPd",
        "outputId": "76a4486f-3ed0-46e8-cfe6-5841547f4724"
      },
      "outputs": [
        {
          "output_type": "stream",
          "name": "stdout",
          "text": [
            "Griffon Vulture flies above the sky\n",
            "Common Crane flies above the sky\n",
            "Emu is the national bird of the Philippines\n"
          ]
        }
      ],
      "source": [
        "class Birds:\n",
        "  def __init__(self,bird_name):\n",
        "    self.bird_name = bird_name\n",
        "  \n",
        "  def flying_birds(self):\n",
        "    print(f\"{self.bird_name} flies above the sky\")\n",
        "  \n",
        "  def non_flying_birds(self):\n",
        "    print(f\"{self.bird_name} is the national bird of the Philippines\")\n",
        "  \n",
        "vulture = Birds(\"Griffon Vulture\")\n",
        "crane = Birds(\"Common Crane\")\n",
        "emu = Birds(\"Emu\")\n",
        "\n",
        "vulture.flying_birds()\n",
        "crane.flying_birds()\n",
        "emu.non_flying_birds()"
      ]
    },
    {
      "cell_type": "markdown",
      "source": [
        "Encapsulation"
      ],
      "metadata": {
        "id": "LSiY_Sv8XTl1"
      }
    },
    {
      "cell_type": "code",
      "source": [
        "class foo:\n",
        "  def __init__(self,a,b):\n",
        "    self.a = a\n",
        "    self.b = b\n",
        "  \n",
        "  def add(self):\n",
        "    return self.a + self.b\n",
        "\n",
        "number = foo(3,4)\n",
        "number.add()\n",
        "\n",
        "number.a = 9               #9+4=13\n",
        "\n",
        "number.add()"
      ],
      "metadata": {
        "colab": {
          "base_uri": "https://localhost:8080/"
        },
        "id": "9dY61zhwXMZk",
        "outputId": "cfd53847-9239-4ab1-ec11-3b65c27fc640"
      },
      "execution_count": null,
      "outputs": [
        {
          "output_type": "execute_result",
          "data": {
            "text/plain": [
              "13"
            ]
          },
          "metadata": {},
          "execution_count": 10
        }
      ]
    },
    {
      "cell_type": "markdown",
      "source": [
        "Encapsulation using mangling with double underscores"
      ],
      "metadata": {
        "id": "TwwsPKMtY0iz"
      }
    },
    {
      "cell_type": "code",
      "source": [
        "class foo:\n",
        "  def __init__(self,a,b):\n",
        "    self.__a = a\n",
        "    self.__b = b\n",
        "  \n",
        "  def add(self):\n",
        "    return self.__a + self.__b\n",
        "\n",
        "number = foo(3,4)\n",
        "number.add()\n",
        "\n",
        "number.a = 7              #7+4=11\n",
        "\n",
        "number.add()"
      ],
      "metadata": {
        "colab": {
          "base_uri": "https://localhost:8080/"
        },
        "id": "65yQSeLnYpDB",
        "outputId": "21e96ff4-a736-4d2c-c1ec-b921e978e334"
      },
      "execution_count": null,
      "outputs": [
        {
          "output_type": "execute_result",
          "data": {
            "text/plain": [
              "11"
            ]
          },
          "metadata": {},
          "execution_count": 7
        }
      ]
    },
    {
      "cell_type": "markdown",
      "source": [
        "Encapsulation with Private Attributes"
      ],
      "metadata": {
        "id": "1nwDQwRUZcoK"
      }
    },
    {
      "cell_type": "code",
      "source": [
        "class Counter:\n",
        "  def __init__(self):\n",
        "    self.__current = 0\n",
        "  \n",
        "  def increment(self):\n",
        "    self.__current +=1\n",
        "  def value(self):                  #retrieves the value\n",
        "    return self.__current\n",
        "  def reset(self):\n",
        "    self.__current = 0\n",
        "\n",
        "num = Counter()\n",
        "num.increment()               #counter = counter + 1\n",
        "num.increment() \n",
        "num.increment() \n",
        "\n",
        "num.value()"
      ],
      "metadata": {
        "colab": {
          "base_uri": "https://localhost:8080/"
        },
        "id": "pIETO-rPZfgb",
        "outputId": "73b82f31-b76b-4f1d-c909-8b00dac2894b"
      },
      "execution_count": null,
      "outputs": [
        {
          "output_type": "execute_result",
          "data": {
            "text/plain": [
              "3"
            ]
          },
          "metadata": {},
          "execution_count": 16
        }
      ]
    },
    {
      "cell_type": "markdown",
      "source": [
        "Inheritance"
      ],
      "metadata": {
        "id": "zIU3SWQ_dK9N"
      }
    },
    {
      "cell_type": "code",
      "source": [
        "class Person:\n",
        "  def __init__(self, firstname, surname):\n",
        "    self.firstname = firstname\n",
        "    self.surname = surname\n",
        "  \n",
        "  def printname(self):\n",
        "    print(self.firstname,self.surname)\n",
        "\n",
        "\n",
        "person = Person(\"Mat Lauren Keiser R.\",\"Valenzuela\")\n",
        "person.printname()\n",
        "class Teacher(Person):\n",
        "  pass\n",
        "\n",
        "person2 = Teacher(\"Marcus\", \"Austria\")\n",
        "person2.printname()\n",
        "\n",
        "class Student(Person):\n",
        "  pass\n",
        "\n",
        "person3 = Student(\"Colleen\",\"Quijano\")\n",
        "person3.printname()\n"
      ],
      "metadata": {
        "colab": {
          "base_uri": "https://localhost:8080/"
        },
        "id": "A_spdzBldMpp",
        "outputId": "745f1983-d987-49f8-ea4b-ac1c671963af"
      },
      "execution_count": null,
      "outputs": [
        {
          "output_type": "stream",
          "name": "stdout",
          "text": [
            "Mat Lauren Keiser R. Valenzuela\n",
            "Marcus Austria\n",
            "Colleen Quijano\n"
          ]
        }
      ]
    },
    {
      "cell_type": "markdown",
      "source": [
        "Polymorephism"
      ],
      "metadata": {
        "id": "Ps-0ybGVgAzA"
      }
    },
    {
      "cell_type": "code",
      "source": [
        "class RegularPolygon:\n",
        "    def __init__(self,side):\n",
        "        self.side = side\n",
        "class Square(RegularPolygon):\n",
        "    def area(self):\n",
        "        return self.side * self.side\n",
        "class EquilateralTriangle(RegularPolygon):\n",
        "    def area(self):\n",
        "        return self.side * self.side * 0.433\n",
        "\n",
        "object = Square(4)\n",
        "print(object.area())\n",
        "\n",
        "object2 = EquilateralTriangle(3)\n",
        "print(object2.area())"
      ],
      "metadata": {
        "colab": {
          "base_uri": "https://localhost:8080/"
        },
        "id": "rj_3kELygAPm",
        "outputId": "9235cfb0-1ed1-4f9d-f7c7-9b72032efcbe"
      },
      "execution_count": null,
      "outputs": [
        {
          "output_type": "stream",
          "name": "stdout",
          "text": [
            "16\n",
            "3.897\n"
          ]
        }
      ]
    },
    {
      "cell_type": "markdown",
      "source": [
        "Application 1\n",
        "\n",
        "1.) Create a Python program that displays the name of three students \n",
        "    (Student  1. Student 2, and Student 3) and their term grades\n",
        "\n",
        "2.) Create a class name Person and attributes-std1 std2 std3, pre,mid,fin \n",
        "\n",
        "3.) Compute the average of each term grade using Grade() method\n",
        "\n",
        "4.) information about students grades must be hidden from others"
      ],
      "metadata": {
        "id": "fj5QRhhki7EJ"
      }
    },
    {
      "cell_type": "code",
      "source": [
        "class Person:\n",
        "  def __init__(self,std, pre, mid, fin):\n",
        "    self.__std = std\n",
        "    self.__pre = pre\n",
        "    self.__mid = mid\n",
        "    self.__fin = fin\n",
        "\n",
        "  def Grade(self):\n",
        "    return round((self.__pre + self.__mid + self.__fin)/3)\n",
        "\n",
        "class Student1(Person):\n",
        "  pass\n",
        "\n",
        "std1 = str(input(\"Enter Name: \"))\n",
        "prelim_1 = float(input(\"Prelim Grade: \"))\n",
        "mid_1 = float(input(\"Midterm grade: \"))\n",
        "fin_1 = float(input(\"Final Grade: \"))\n",
        "\n",
        "Student_1 = Person(std1,prelim_1,mid_1,fin_1)\n",
        "\n",
        "\n",
        "print()\n",
        "\n",
        "class Student2(Person):\n",
        "  pass\n",
        "\n",
        "std2 = str(input(\"Enter Name: \"))\n",
        "prelim_2 = float(input(\"Prelim Grade: \"))\n",
        "mid_2 = float(input(\"Midterm grade: \"))\n",
        "fin_2 = float(input(\"Final Grade: \"))\n",
        "\n",
        "Student_2 = Person(std2,prelim_2,mid_2,fin_2)\n",
        "\n",
        "\n",
        "print()\n",
        "\n",
        "class Student3(Person):\n",
        "  pass\n",
        "\n",
        "std3 = str(input(\"Enter Name: \"))\n",
        "prelim_3 = float(input(\"Prelim Grade: \"))\n",
        "mid_3 = float(input(\"Midterm grade: \"))\n",
        "fin_3 = float(input(\"Final Grade: \"))\n",
        "\n",
        "Student_3 = Person(std3,prelim_3,mid_3,fin_3)\n",
        "print()\n",
        "\n",
        "Name = str(input(\"Enter a name:\"))\n",
        "if Name == std1:\n",
        "  print(\"GWA: \", Student_1.Grade())\n",
        "else:\n",
        "  if Name == std2:\n",
        "    print(\"GWA: \", Student_2.Grade())\n",
        "  else:\n",
        "    if Name == std3:\n",
        "      print(\"GWA: \",Student_3.Grade())\n",
        "    else:\n",
        "      print(\"Student is not on the list\")"
      ],
      "metadata": {
        "id": "t0hCgGzui7iU",
        "colab": {
          "base_uri": "https://localhost:8080/"
        },
        "outputId": "eac277b0-d0d4-444d-9452-5325f2a065a5"
      },
      "execution_count": 10,
      "outputs": [
        {
          "output_type": "stream",
          "name": "stdout",
          "text": [
            "Enter Name: Ernest\n",
            "Prelim Grade: 99\n",
            "Midterm grade: 99\n",
            "Final Grade: 99\n",
            "\n",
            "Enter Name: Mat\n",
            "Prelim Grade: 95\n",
            "Midterm grade: 98\n",
            "Final Grade: 97\n",
            "\n",
            "Enter Name: Landon\n",
            "Prelim Grade: 96\n",
            "Midterm grade: 99\n",
            "Final Grade: 98\n",
            "\n",
            "Enter a name:Landon\n",
            "GWA:  98\n"
          ]
        }
      ]
    }
  ]
}