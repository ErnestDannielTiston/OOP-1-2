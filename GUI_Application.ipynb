{
  "nbformat": 4,
  "nbformat_minor": 0,
  "metadata": {
    "colab": {
      "name": "GUI Application.ipynb",
      "provenance": [],
      "authorship_tag": "ABX9TyOS64Xkgzw1Tx9xhVqcCfXd",
      "include_colab_link": true
    },
    "kernelspec": {
      "name": "python3",
      "display_name": "Python 3"
    },
    "language_info": {
      "name": "python"
    }
  },
  "cells": [
    {
      "cell_type": "markdown",
      "metadata": {
        "id": "view-in-github",
        "colab_type": "text"
      },
      "source": [
        "<a href=\"https://colab.research.google.com/github/ErnestDannielTiston/OOP-1-2/blob/main/GUI_Application.ipynb\" target=\"_parent\"><img src=\"https://colab.research.google.com/assets/colab-badge.svg\" alt=\"Open In Colab\"/></a>"
      ]
    },
    {
      "cell_type": "code",
      "execution_count": 13,
      "metadata": {
        "colab": {
          "base_uri": "https://localhost:8080/"
        },
        "id": "For3VS0DuWtQ",
        "outputId": "ba8dab85-c757-4d7c-a3a5-2785a0a027b0"
      },
      "outputs": [
        {
          "output_type": "stream",
          "name": "stdout",
          "text": [
            "The prelim grade of student 1 is 100\n",
            "The midterm grade of student 1 is 100\n",
            "The final grade of student 1 is 100\n",
            "The semestral grade of student 1 is 100.0\n",
            "Male\n"
          ]
        }
      ],
      "source": [
        "#@title Students Grade in OOP\n",
        "\n",
        "Students_Name1 = \"Enter the student name\" #@param {type:\"string\"}\n",
        "prelim =  100 #@param {type: \"number\"}\n",
        "midterm = 100 #@param {type: \"number\"}\n",
        "final = 100 #@param {type: \"number\"}\n",
        "\n",
        "semestral_grade = (prelim + midterm + final)/3\n",
        "\n",
        "print(\"The prelim grade of student 1 is \"+ str(prelim))\n",
        "print(\"The midterm grade of student 1 is \"+ str(midterm))\n",
        "print(\"The final grade of student 1 is \"+ str(final))\n",
        "print(\"The semestral grade of student 1 is \"+ str(semestral_grade))\n",
        "\n",
        "#@title Gender\n",
        "Gender = \"Male\" #@param[\"Male\",\"Female\"]\n",
        "print(Gender)\n",
        "\n",
        "Birthdate = '2004-03-15' #@param {type:\"date\"}"
      ]
    }
  ]
}