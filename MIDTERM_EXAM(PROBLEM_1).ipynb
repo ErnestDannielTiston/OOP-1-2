{
  "nbformat": 4,
  "nbformat_minor": 0,
  "metadata": {
    "colab": {
      "name": "MIDTERM EXAM(PROBLEM 1).ipynb",
      "provenance": [],
      "authorship_tag": "ABX9TyMn46xlFre5PYuQNkYox+aA",
      "include_colab_link": true
    },
    "kernelspec": {
      "name": "python3",
      "display_name": "Python 3"
    },
    "language_info": {
      "name": "python"
    }
  },
  "cells": [
    {
      "cell_type": "markdown",
      "metadata": {
        "id": "view-in-github",
        "colab_type": "text"
      },
      "source": [
        "<a href=\"https://colab.research.google.com/github/ErnestDannielTiston/OOP-1-2/blob/main/MIDTERM_EXAM(PROBLEM_1).ipynb\" target=\"_parent\"><img src=\"https://colab.research.google.com/assets/colab-badge.svg\" alt=\"Open In Colab\"/></a>"
      ]
    },
    {
      "cell_type": "markdown",
      "source": [
        "##PROBLEM 1"
      ],
      "metadata": {
        "id": "bGpQHfkM3AAn"
      }
    },
    {
      "cell_type": "code",
      "source": [
        "def main():\n",
        "    class TemperatureConversion:\n",
        "        def __init__(self, temp=1):\n",
        "          self._temp = temp\n",
        "    class CelsiusToFahrenheit(TemperatureConversion):\n",
        "        def conversion(self):\n",
        "          return (self._temp * 9) / 5 + 32\n",
        "    class CelsiusToKelvin(TemperatureConversion):\n",
        "        def conversion(self):\n",
        "          return self._temp + 273.15\n",
        "    \n",
        "    class FarenheitToCelsius(TemperatureConversion):\n",
        "        def conversion(self):\n",
        "          return (self._temp - 32) * (5/9)\n",
        "    \n",
        "    class KelvinToCelsius(TemperatureConversion):\n",
        "        def conversion(self):\n",
        "          return (self._temp - 273.15)   \n",
        "    \n",
        "\n",
        "    tempInCelsius = float(input(\"Enter the temperature in Celsius: \"))\n",
        "    convert = CelsiusToKelvin(tempInCelsius)\n",
        "    print(str(convert.conversion()) + \" Kelvin\")\n",
        "    convert = CelsiusToFahrenheit(tempInCelsius)\n",
        "    print(str(convert.conversion()) + \" Fahrenheit\" + \"\\n\")\n",
        "\n",
        "    tempInFarenheit = float(input(\"Enter the temperature in Farenheit: \"))\n",
        "    convert = FarenheitToCelsius(tempInFarenheit)\n",
        "    print(str(round(convert.conversion(),2)) + \" Celsius\" + \"\\n\")\n",
        "\n",
        "    tempInKelvin = float(input(\"Enter the temperature in Kelvin: \"))\n",
        "    convert = KelvinToCelsius(tempInKelvin)\n",
        "    print(str(round(convert.conversion(),2))+ \" Celsius\")\n",
        "\n",
        "\n",
        "main()"
      ],
      "metadata": {
        "colab": {
          "base_uri": "https://localhost:8080/"
        },
        "id": "qFXc0OBVnWUS",
        "outputId": "26d1ed2b-e0f7-4b81-a63a-5cd327a47e0c"
      },
      "execution_count": 36,
      "outputs": [
        {
          "output_type": "stream",
          "name": "stdout",
          "text": [
            "Enter the temperature in Celsius: 1\n",
            "274.15 Kelvin\n",
            "33.8 Fahrenheit\n",
            "\n",
            "Enter the temperature in Farenheit: 1\n",
            "-17.22 Celsius\n",
            "\n",
            "Enter the temperature in Kelvin: 1\n",
            "-272.15 Celsius\n"
          ]
        }
      ]
    }
  ]
}