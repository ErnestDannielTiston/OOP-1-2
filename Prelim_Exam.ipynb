{
  "nbformat": 4,
  "nbformat_minor": 0,
  "metadata": {
    "colab": {
      "name": "Prelim Exam.ipynb",
      "provenance": [],
      "authorship_tag": "ABX9TyNAtqzCQF35rKyf5G9PBY7O",
      "include_colab_link": true
    },
    "kernelspec": {
      "name": "python3",
      "display_name": "Python 3"
    },
    "language_info": {
      "name": "python"
    }
  },
  "cells": [
    {
      "cell_type": "markdown",
      "metadata": {
        "id": "view-in-github",
        "colab_type": "text"
      },
      "source": [
        "<a href=\"https://colab.research.google.com/github/ErnestDannielTiston/OOP-1-2/blob/main/Prelim_Exam.ipynb\" target=\"_parent\"><img src=\"https://colab.research.google.com/assets/colab-badge.svg\" alt=\"Open In Colab\"/></a>"
      ]
    },
    {
      "cell_type": "code",
      "execution_count": 11,
      "metadata": {
        "colab": {
          "base_uri": "https://localhost:8080/"
        },
        "id": "M_j7CpI0VJ4J",
        "outputId": "74b95d34-ddd2-424f-c9bd-ebdcce1dd8f0"
      },
      "outputs": [
        {
          "output_type": "stream",
          "name": "stdout",
          "text": [
            "\n",
            " Greetings I am Ernest Danniel R. Tiston and my student number is 202106651 \n",
            " I just turned 18 in the 15th of March \n",
            " I am currently enrolled in Cavite State University-Indang Campus taking Bachelor of Science in Computer Engineering\n"
          ]
        }
      ],
      "source": [
        "class Student:\n",
        "  def __init__(self,Name,Student_No,Age,School,Course):\n",
        "    self.Name = Name\n",
        "    self.Student_No = Student_No \n",
        "    self.Age = Age\n",
        "    self.School = School\n",
        "    self.Course = Course\n",
        "  \n",
        "  def Info(self):\n",
        "    print(\"\\n\",\"Greetings I am\",self.Name,\"and my student number is\", self.Student_No,\"\\n\",\"I just turned\",self.Age,\"in the 15th of March\",\n",
        "          \"\\n\", \"I am currently enrolled in\", self.School,\"taking\", self.Course)\n",
        "  \n",
        "Myself = Student(\"Ernest Danniel R. Tiston\",\"202106651\",\"18\", \"Cavite State University-Indang Campus\", \"Bachelor of Science in Computer Engineering\")\n",
        "Myself.Info()  "
      ]
    }
  ]
}