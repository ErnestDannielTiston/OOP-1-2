{
  "nbformat": 4,
  "nbformat_minor": 0,
  "metadata": {
    "colab": {
      "name": "Activity 2.ipynb",
      "provenance": [],
      "authorship_tag": "ABX9TyMSq15zsrxp4aKohEwx52eo",
      "include_colab_link": true
    },
    "kernelspec": {
      "name": "python3",
      "display_name": "Python 3"
    },
    "language_info": {
      "name": "python"
    }
  },
  "cells": [
    {
      "cell_type": "markdown",
      "metadata": {
        "id": "view-in-github",
        "colab_type": "text"
      },
      "source": [
        "<a href=\"https://colab.research.google.com/github/ErnestDannielTiston/OOP-1-2/blob/main/Activity_2.ipynb\" target=\"_parent\"><img src=\"https://colab.research.google.com/assets/colab-badge.svg\" alt=\"Open In Colab\"/></a>"
      ]
    },
    {
      "cell_type": "code",
      "execution_count": null,
      "metadata": {
        "colab": {
          "base_uri": "https://localhost:8080/"
        },
        "id": "EviYaNnOW65I",
        "outputId": "b43104e6-9b2b-4b3b-89fb-f054f36bf234"
      },
      "outputs": [
        {
          "output_type": "stream",
          "name": "stdout",
          "text": [
            "Input temperature in Celsius:30\n",
            "86.0\n"
          ]
        }
      ],
      "source": [
        "#Write a python program that converts the temperature Celsius to Fahrenheit. Create a class name Temperature.\n",
        "#Create Celsius as attribute name, Temp() as method, and temp 1 as object name. F = 1.8C + 32\n",
        "\n",
        "class Temperature:\n",
        "  def __init__(self,Celsius):\n",
        "    self.Celsius = Celsius\n",
        "\n",
        "  def Temp(self):\n",
        "    return ((1.8* self.Celsius)+32)\n",
        "    \n",
        "input_temp = float(input(\"Input temperature in Celsius:\"))\n",
        "temp1 = Temperature(input_temp)\n",
        "print(round(temp1.Temp(),2))"
      ]
    },
    {
      "cell_type": "code",
      "source": [
        "#Define an Area() method of the class that calculates the circle’s area.\n",
        "#Define a Perimeter() method of the class which allows you to calculate the perimeter of the circle.\n",
        "\n",
        "import math\n",
        "\n",
        "class Circle:\n",
        "  def __init__(self,radius):\n",
        "    self.radius = radius\n",
        "  \n",
        "  def Area(self):\n",
        "    return float(math.pi*(self.radius*self.radius))\n",
        "\n",
        "  def Perimeter(self):\n",
        "    return float(2*math.pi*self.radius)\n",
        "\n",
        "input_rad = float(input(\"Input radius: \"))\n",
        "rad1 = Circle(input_rad)\n",
        "print(\"The Area of the circle with the radius of\", input_rad, \"is\", round(rad1.Area(),2))\n",
        "print(\"The Perimeter of the circle with the radius of\", input_rad, \"is\", round(rad1.Perimeter(),2))"
      ],
      "metadata": {
        "id": "rEApoVb4kk6c",
        "colab": {
          "base_uri": "https://localhost:8080/"
        },
        "outputId": "bcc09350-4599-4cd5-f84b-37bce0ad9283"
      },
      "execution_count": 20,
      "outputs": [
        {
          "output_type": "stream",
          "name": "stdout",
          "text": [
            "Input radius: 5\n",
            "The Area of the circle with the radius of 5.0 is 78.54\n",
            "The Perimeter of the circle with the radius of 5.0 is 31.42\n"
          ]
        }
      ]
    }
  ]
}